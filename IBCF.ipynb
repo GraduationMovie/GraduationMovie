{
  "nbformat": 4,
  "nbformat_minor": 0,
  "metadata": {
    "colab": {
      "name": "IBCF.ipynb",
      "provenance": []
    },
    "kernelspec": {
      "name": "python3",
      "display_name": "Python 3"
    },
    "language_info": {
      "name": "python"
    }
  },
  "cells": [
    {
      "cell_type": "code",
      "metadata": {
        "id": "8BHzPt3xAgNE"
      },
      "source": [
        "#!/usr/bin/env python3\n",
        "# -*- coding: utf-8 -*-\n",
        "\n",
        "import pandas as pd\n",
        "import numpy as np\n",
        "from math import sqrt\n",
        "from numpy import random\n",
        "from sklearn.metrics import mean_squared_error\n",
        "\n",
        "COLUMN_USERID = \"userId\"\n",
        "COLUMN_MOVIEID = \"itemId\"\n",
        "COLUMN_RATING = \"rating\"\n",
        "COLUMN_TIMESTAMP = \"timestamp\"\n",
        "\n",
        "TRAIN_COLUMNS = [COLUMN_USERID, COLUMN_MOVIEID,\n",
        "                 COLUMN_RATING, COLUMN_TIMESTAMP]\n",
        "MOVIES_COLUMNS = [\"movieId\", \"title\", \"genre\"]\n",
        "\n",
        "DATA_PATH = \"./\"\n",
        "RATINGS_PATH = \"ratings.dat\"\n",
        "MOVIES_PATH = \"movies.dat\"\n",
        "SEPERATOR = \"::\"\n",
        "N_USER = -1\n",
        "N_MOVIE = -1\n",
        "N_RECOMMENDATIONS = 5\n",
        "\n",
        "\n",
        "def init_data():\n",
        "    global N_USER, N_MOVIE\n",
        "    train_data = pd.read_table(DATA_PATH + RATINGS_PATH,\n",
        "                               sep=SEPERATOR, header=None, names=TRAIN_COLUMNS)\n",
        "\n",
        "    train_data.drop(columns=[COLUMN_TIMESTAMP], inplace=True)\n",
        "\n",
        "    N_USER = train_data.userId.max()\n",
        "    N_MOVIE = train_data.itemId.max()\n",
        "\n",
        "    rating = np.zeros((N_USER, N_MOVIE))\n",
        "    for row in train_data.itertuples():\n",
        "        rating[row[1] - 1, row[2] - 1] = row[3]\n",
        "\n",
        "    train_matrix = np.copy(rating)\n",
        "    test_matrix = np.zeros((N_USER, N_MOVIE))\n",
        "\n",
        "    u = 0\n",
        "    for row in train_matrix:\n",
        "        nonzero_indicies = np.nonzero(row)\n",
        "        per_20 = int(len(nonzero_indicies[0]) * 0.2)\n",
        "        rand = random.choice(nonzero_indicies[0], per_20, replace=False)\n",
        "        for i in range(per_20):\n",
        "            test_matrix[u, rand[i]] = train_matrix[u, rand[i]]\n",
        "            train_matrix[u, rand[i]] = 0\n",
        "        u = u + 1\n",
        "    return train_matrix, test_matrix\n",
        "\n",
        "\n",
        "def cosine_sim(a, b):\n",
        "    return np.dot(a, b) / (np.linalg.norm(a) * np.linalg.norm(b))\n",
        "\n",
        "\n",
        "def adj_cosine_sim(train_data):\n",
        "    sims = np.zeros((N_MOVIE, N_MOVIE))\n",
        "\n",
        "    user_mean = train_data.sum(axis=1)/(train_data != 0).sum(axis=1)\n",
        "\n",
        "    sub_ratings = np.where(\n",
        "        (train_data != 0), train_data - user_mean[:, None], train_data)\n",
        "    for i in range(N_MOVIE):\n",
        "        for j in range(i, N_MOVIE):\n",
        "            sim = cosine_sim(sub_ratings[i], sub_ratings[j])\n",
        "            sims[i, j] = sim\n",
        "            sims[j, i] = sim\n",
        "\n",
        "    return sims\n",
        "\n",
        "\n",
        "def similarities(train_matrix):\n",
        "    sim_matrix = adj_cosine_sim(train_matrix)\n",
        "    sim_matrix = np.where((sim_matrix < 0), 0, sim_matrix)\n",
        "    return sim_matrix\n",
        "\n",
        "\n",
        "def predictions(train_matrix, sim_matrix):\n",
        "    top = train_matrix.dot(sim_matrix)\n",
        "    bottom = np.zeros((N_USER, N_MOVIE))\n",
        "    for user in range(N_USER):\n",
        "        nonzeros = np.nonzero(train_matrix[user])\n",
        "        for movie in range(N_MOVIE):\n",
        "            bottom[user, movie] = (sim_matrix[movie, nonzeros]).sum()\n",
        "\n",
        "    pred_matrix = top / bottom\n",
        "    np.nan_to_num(pred_matrix, copy=False)\n",
        "    return pred_matrix\n",
        "\n",
        "\n",
        "def err_rmse(test_matrix, pred_matrix):\n",
        "    mse = mean_squared_error(\n",
        "        test_matrix[test_matrix != 0], pred_matrix[test_matrix != 0])\n",
        "    rmse = sqrt(mse)\n",
        "    return rmse\n",
        "\n",
        "\n",
        "def get_recommendations(pred, user_id):\n",
        "    print(np.argsort(pred[user_id - 1]))\n",
        "    descending_indicies = np.argsort(\n",
        "        pred[user_id - 1])[(-1 * N_RECOMMENDATIONS):]\n",
        "    print(descending_indicies)\n",
        "    train_data = pd.read_table(DATA_PATH + MOVIES_PATH,\n",
        "                               sep=SEPERATOR, header=None, names=MOVIES_COLUMNS)\n",
        "\n",
        "    recommendations = [train_data.iloc[i] for i in descending_indicies]\n",
        "    return recommendations\n"
      ],
      "execution_count": 5,
      "outputs": []
    },
    {
      "cell_type": "code",
      "metadata": {
        "colab": {
          "base_uri": "https://localhost:8080/"
        },
        "id": "9OqHrotdA30e",
        "outputId": "88d302a4-2924-456f-cccb-9daf11d2a42d"
      },
      "source": [
        "train, test = init_data()\n",
        "print(f'done init data')\n",
        "sim = similarities(train)\n",
        "print(f'done sim')"
      ],
      "execution_count": 6,
      "outputs": [
        {
          "output_type": "stream",
          "text": [
            "/usr/local/lib/python3.7/dist-packages/pandas/io/parsers.py:767: ParserWarning: Falling back to the 'python' engine because the 'c' engine does not support regex separators (separators > 1 char and different from '\\s+' are interpreted as regex); you can avoid this warning by specifying engine='python'.\n",
            "  return read_csv(**locals())\n"
          ],
          "name": "stderr"
        },
        {
          "output_type": "stream",
          "text": [
            "done init data\n",
            "done sim\n"
          ],
          "name": "stdout"
        }
      ]
    },
    {
      "cell_type": "code",
      "metadata": {
        "colab": {
          "base_uri": "https://localhost:8080/"
        },
        "id": "PQVmzz9ACi1x",
        "outputId": "d1ceb2e9-96ed-4c0b-df57-04151a2762a1"
      },
      "source": [
        "\n",
        "pred = np.copy(predictions(train, sim))\n",
        "print(f'done pred')\n",
        "print(pred)\n",
        "err = err_rmse(test, pred)\n",
        "print(f'done training. RMSE = ', err)"
      ],
      "execution_count": 7,
      "outputs": [
        {
          "output_type": "stream",
          "text": [
            "/usr/local/lib/python3.7/dist-packages/ipykernel_launcher.py:91: RuntimeWarning: invalid value encountered in true_divide\n"
          ],
          "name": "stderr"
        },
        {
          "output_type": "stream",
          "text": [
            "done pred\n",
            "[[4.7593198  4.21309232 4.08289322 ... 4.04830376 4.18293721 4.40030533]\n",
            " [3.88635093 3.62814665 3.7568879  ... 3.72759853 3.76230356 3.51196165]\n",
            " [4.15139243 3.93387056 4.16236591 ... 3.71927368 4.19923467 4.03826118]\n",
            " ...\n",
            " [3.80552164 3.93587116 4.34598516 ... 3.94252733 4.4175683  4.6739333 ]\n",
            " [4.0292855  3.9413245  3.87516403 ... 3.9293954  3.92424929 4.00877514]\n",
            " [3.49023717 3.65188604 3.49437895 ... 3.58867578 3.64859732 3.85589671]]\n",
            "done training. RMSE =  1.0411176726200764\n"
          ],
          "name": "stdout"
        }
      ]
    },
    {
      "cell_type": "code",
      "metadata": {
        "colab": {
          "base_uri": "https://localhost:8080/"
        },
        "id": "oeEddXgUBIrw",
        "outputId": "2e837646-e343-4571-e540-7f0efad284ab"
      },
      "source": [
        "\n",
        "target_user = int(input(\"user id for recommendation: \"))\n",
        "print(get_recommendations(pred, target_user))\n"
      ],
      "execution_count": 8,
      "outputs": [
        {
          "output_type": "stream",
          "text": [
            "user id for recommendation: 5\n",
            "[3743 3112 2158 ... 2570 1045 1837]\n",
            "[3302 1918 2570 1045 1837]\n",
            "[movieId                      3371\n",
            "title      Bound for Glory (1976)\n",
            "genre                       Drama\n",
            "Name: 3302, dtype: object, movieId                 1987\n",
            "title      Prom Night (1980)\n",
            "genre                 Horror\n",
            "Name: 1918, dtype: object, movieId                     2639\n",
            "title      Mommie Dearest (1981)\n",
            "genre                      Drama\n",
            "Name: 2570, dtype: object, movieId                                             1059\n",
            "title      William Shakespeare's Romeo and Juliet (1996)\n",
            "genre                                      Drama|Romance\n",
            "Name: 1045, dtype: object, movieId                   1906\n",
            "title      Mr. Jealousy (1997)\n",
            "genre           Comedy|Romance\n",
            "Name: 1837, dtype: object]\n"
          ],
          "name": "stdout"
        },
        {
          "output_type": "stream",
          "text": [
            "/usr/local/lib/python3.7/dist-packages/pandas/io/parsers.py:767: ParserWarning: Falling back to the 'python' engine because the 'c' engine does not support regex separators (separators > 1 char and different from '\\s+' are interpreted as regex); you can avoid this warning by specifying engine='python'.\n",
            "  return read_csv(**locals())\n"
          ],
          "name": "stderr"
        }
      ]
    }
  ]
}